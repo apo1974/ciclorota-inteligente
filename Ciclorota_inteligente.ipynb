{
  "nbformat": 4,
  "nbformat_minor": 0,
  "metadata": {
    "colab": {
      "provenance": []
    },
    "kernelspec": {
      "name": "python3",
      "display_name": "Python 3"
    },
    "language_info": {
      "name": "python"
    }
  },
  "cells": [
    {
      "cell_type": "code",
      "source": [
        "# CicloRota Inteligente - Planejador de Rotas com IA (sem uso de API externa)\n",
        "import google.generativeai as genai\n",
        "from google.colab import userdata\n",
        "\n",
        "# Configurar a API Gemini\n",
        "genai.configure(api_key=userdata.get('GOOGLE_API_KEY'))\n",
        "modelo = genai.GenerativeModel(model_name=\"models/gemini-2.0-flash\")\n",
        "\n",
        "# Entradas do usuário\n",
        "origem = input(\"Digite o ponto de partida: \")\n",
        "destino = input(\"Digite o destino final: \")\n",
        "horario = input(\"Qual horário pretende sair (ex: 6h, 14h)? \")\n",
        "nivel = input(\"Qual o seu nível como ciclista? (iniciante, intermediário, avançado): \")\n",
        "tempo_diario = input(\"Quantas horas por dia pretende pedalar? \")\n",
        "\n",
        "prompt = f\"\"\"\n",
        "Sou um ciclista planejando um trajeto saindo de {origem} com destino a {destino}, com saída prevista para as {horario}.\n",
        "Meu nível como ciclista é {nivel}, e pretendo pedalar cerca de {tempo_diario} por dia.\n",
        "\n",
        "Com base nesses dados, estime:\n",
        "- A distância total aproximada e tempo de pedalada\n",
        "- Tipo de terreno e infraestrutura (ex: ciclovia, subidas)\n",
        "- Dicas de segurança para o trajeto nesse horário\n",
        "- Sugestão de preparo físico, paradas e ritmo ideal considerando o tempo diário de pedalada\n",
        "\"\"\"\n",
        "\n",
        "resposta = modelo.generate_content(prompt)\n",
        "\n",
        "print(\"\\n🚴 RESUMO DO TRAJETO 🚴\\n\")\n",
        "print(resposta.text)"
      ],
      "metadata": {
        "id": "nEeviwqEKfW4"
      },
      "execution_count": null,
      "outputs": []
    }
  ]
}